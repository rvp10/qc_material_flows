{
 "cells": [
  {
   "cell_type": "markdown",
   "id": "f7db493f",
   "metadata": {},
   "source": [
    "# Optimization of Material Flows in Matrix Production using QAOA"
   ]
  },
  {
   "cell_type": "markdown",
   "id": "8050f9ae",
   "metadata": {},
   "source": [
    "In this notebook, a matrix production material flow including 6 unique producing units/machines and three product types/material flows is simulated. For that purpose, an existing code construct by Madadi (2021) simulating a collision-free Vehicle Routing Problem (VRP) is partially transferred, amended and optimized to fulfill its purpose. \n",
    "\n",
    "The matrix-structured manufacturing system (MMS) simulated in this notebook is depicted below. As stated above, it consists of 6 machines that are feasible to excute three operations respectively. "
   ]
  },
  {
   "cell_type": "markdown",
   "id": "d074db53",
   "metadata": {},
   "source": [
    "<img src=\"mms_layout_example.jpg\" width=\"400\" style=\"float:left\"/>"
   ]
  },
  {
   "cell_type": "markdown",
   "id": "b7b2444b",
   "metadata": {},
   "source": [
    "The material flow directions and paths are not just chosen arbitrarily. The following image shows three different material flow schemes for three different product types. All products need exactly three manufacturing operations to be finished. Each operation can be executed by two machines. For example, the first operation of material flow 1 can be executed by machines *M1* and *M2*. These are combined in the previous image. The objective of this simple example is to find the optimum path through the MMS for each material flow without colliding at one machine. \n",
    "\n",
    "**Assumptions**: \n",
    "- The duration of moving a material from one node to another is equal for each distribution task.\n",
    "- One time tick represents the material flow from one machine to another. \n",
    "- Therefore, the total time horizon is considering 5 time ticks (see further below).\n",
    "- Processing times of machines are neglectable.\n",
    "- At the starting time all machines are unoccupied and available.\n",
    "- Buffers at machines are not existing. So, at most one material can be at one node at a time."
   ]
  },
  {
   "cell_type": "markdown",
   "id": "382b8ac4",
   "metadata": {},
   "source": [
    "<img src=\"examplary_material_flows.jpg\" width=\"800\" style=\"float:left\"/>"
   ]
  },
  {
   "cell_type": "markdown",
   "id": "4449d50c",
   "metadata": {},
   "source": [
    "For the above material flows, a sliced graph can be constructed that shows the possible movement of material over each time tick t. The graph is depicted in the image below. The start-end relations are transferred into arrays in which one sub-array represents the feasible machines of one product for one respective time step. For example, the first operation of material flow 2 (colored purple) needs to be performed by machine *M2* or *M3*, the second operation by *M1* or *M6*, and the last by *M4* or *M5*. For each scenario, so for each unit in the array, one qubit is responsible. As you can see, there are a total of 24 qubits needed to simulate all three material flows. Qubits 1-8 represent material flow 1 (*MF1*), qubits 9-16 represent material flow 2 (*MF2*), and qubits 17-24 represent material flow 3 (*MF3*)."
   ]
  },
  {
   "cell_type": "markdown",
   "id": "5800ff41",
   "metadata": {},
   "source": [
    "<img src=\"sliced_graph.jpg\" width=\"800\" style=\"float:left\"/>"
   ]
  },
  {
   "cell_type": "markdown",
   "id": "37063045",
   "metadata": {},
   "source": [
    "Each edge that connects two nodes/machines is assinged to a specific cost. A cost matrix is generated that includes all the costs of choosing a path between two nodes. The costs are chosen as follows: \n",
    "- a cost of 1 unit is assigned if the subsequent node is located in front or horizontal to the current node (e.g. S-M2, M1-M3, M5-M6); \n",
    "- a cost of 2 units is assigned if the subsequent node is located diagonal to the current node (e.g. M1-M4, M3-M6); \n",
    "- a cost of 3 units is assigned if the subsequent node is located behind the node in front of the current node (e.g. M2-M6, M3-D);\n",
    "- a cost of P (penalty weight) is assigned if the the path is not present in the given example.\n"
   ]
  },
  {
   "cell_type": "markdown",
   "id": "db1514be",
   "metadata": {},
   "source": [
    "The underlying **QUBO** $H = H_c + H_1 + H_2$for the MMS Problem consists of one main cost function $H_c$ that is subject to two constraints $H_1$ and $H_2$.\n",
    "\n",
    "$H_c$ iterates through every material flow at every time tick at every vertex and calculates the cost sum of all active vertices. One cost is accumulated by two active subsequent vertices v and v'. \n",
    "\n",
    "\\begin{equation}\n",
    "H_c = \\sum_{m=0}^{M-1}\\sum_{t=0}^{T-2}\\sum_{v\\in{V_t}, v'\\in{V_{t+1}}}c_{v,v'}X_{m,t,v}X_{m,t+1,v'}\n",
    "\\end{equation}\n",
    "\n",
    "$H_1$ iterates through every material flow at every time tick to ensure that only one vertex is active at one respective time tick. If this is not the case, a penalty weight P is accumulated to the total cost.\n",
    "\n",
    "\\begin{equation}\n",
    "H_1 = P\\sum_{m=0}^{M-1}\\sum_{t=0}^{T-1}(\\sum_{v\\in{V_t}}X_{m,t,v}-1)^2\n",
    "\\end{equation} \n",
    "\n",
    "$H_2$ iterates through every time tick and every vertex to control if only one material flow is active on one vertex at a time. Function D's output is the number of material flows on one specific vertex. If a vertex includes more than 1 material flow at a time, a penalty weight P is accumulated as well. \n",
    "\n",
    "\\begin{equation}\n",
    "H_2 = P\\sum_{t=1}^{T-2}\\sum_{v\\in{V}}(D(t,v)-1)D(t,v)\n",
    "\\end{equation} \n",
    "\n",
    "**Parameters**:\n",
    "- $m$:   material flow\n",
    "- $M$:   total number of material flows\n",
    "- $t$:   time tick / time slice\n",
    "- $T$:   total number of time ticks / time slices\n",
    "- $v$:   vertex / node\n",
    "- $v'$:  subsequent vertex / node of v\n",
    "- $V_c$: set of all vertices / nodes\n",
    "- $P$:   penalty value\n",
    "- $X_{m,t,v}$: binary variable that is set to one if one specific node is active, otherwise it's value is 0"
   ]
  },
  {
   "cell_type": "markdown",
   "id": "7caef3f1",
   "metadata": {},
   "source": [
    "In the section \"Preprocessing\", three choices can be made. For testing reasons, two material flows (MF1 & MF2) have been simulated first. There are two scenarios you can choose from: \n",
    "- First Example - Simulation of 2 Material Flows with Multiple Optimal Solutions (see chapter 4.3.1)\n",
    "- Second Example - Simulation of 2 Material Flows with 1 Optimal Solutions (see chapter 4.3.2)\n",
    "\n",
    "For the simulation of three material flows, the third scenario has to be chosen:\n",
    "- Third Example - Simulation of 3 Material Flows with Multiple Optimal Solutions (see chapter 4.3.3)"
   ]
  },
  {
   "cell_type": "markdown",
   "id": "d0c92804",
   "metadata": {},
   "source": [
    "## Definition of Classes"
   ]
  },
  {
   "cell_type": "code",
   "execution_count": 1,
   "id": "df15027c",
   "metadata": {},
   "outputs": [],
   "source": [
    "def get_unique_nodes(edge_list):\n",
    "    \"\"\"\n",
    "    Creates a list of all unique nodes appearing in a given MMS.\n",
    "    The start node is added by default; every other node is only included if it can be reached from another node. \n",
    "    Isolated nodes will not be added to the list, unless they happen to be the start node.\n",
    "    For the given example of an MMS with six workstations, this will always end up in the list [0,1,2,3,4,5,6,7] but\n",
    "    for other examplary use cases (e.g. VRP) this might be important to consider.\n",
    "    \"\"\"\n",
    "    \n",
    "    nr_nodes = 0\n",
    "    unique_nodes = []\n",
    "    unique_nodes.append(start_node)\n",
    "\n",
    "    for edge in edge_list:\n",
    "        if edge[1] not in unique_nodes:\n",
    "            unique_nodes.append(edge[1])\n",
    "\n",
    "    return unique_nodes"
   ]
  },
  {
   "cell_type": "code",
   "execution_count": 2,
   "id": "a1eccc12",
   "metadata": {},
   "outputs": [],
   "source": [
    "def construct_numbered_sliced_MF(sliced_mf, offset):\n",
    "    \"\"\"\n",
    "    Based on a two-dimensional array that contains the time ticks of an MMS, this function renumbers the contents by \n",
    "    giving each element its index in the corresponding flattened array. Since the numbered sliced MF is used for \n",
    "    getting the qubit indices of the nodes, and since there are several sliced material flows, an offset is necessary.\n",
    "    Example: With input ([[0], [1, 3], [2, 3]], 0), output would be [[0], [1, 2], [3, 4]].\n",
    "    With input ([[0], [1, 3], [2, 3], [4, 3]], 5), output would be [[5], [6, 7], [8, 9], [10, 11]].\n",
    "    \"\"\"\n",
    "    \n",
    "    ns = [] # numbered sliced material flow\n",
    "    node_counter = 0\n",
    "\n",
    "    for m in range(len(sliced_mf)):\n",
    "        ns.append([])\n",
    "        for n in range(len(sliced_mf[m])):\n",
    "            ns[m].append(node_counter + offset)\n",
    "            node_counter+=1\n",
    "    \n",
    "    return ns, node_counter"
   ]
  },
  {
   "cell_type": "code",
   "execution_count": 3,
   "id": "277737b2",
   "metadata": {},
   "outputs": [],
   "source": [
    "def construct_MF_matrix(edge_list):\n",
    "    \"\"\"\n",
    "    Constructs a dataframe that contains all material flow edges present in the MMS. \n",
    "    The returned dataframe can contain several edges per two nodes. The entry at matrix[0][1] contains an array \n",
    "    of all edges that go from node 0 to node 1.\n",
    "    \"\"\"\n",
    "\n",
    "    node_labels = get_unique_nodes(edge_list)\n",
    "    MF_matrix = pd.DataFrame([[[] for _ in range(len(node_labels))] for _ in range(len(node_labels))], node_labels, node_labels)\n",
    "    \n",
    "    for edge in edge_list:\n",
    "        start = edge[0]\n",
    "        end = edge[1]\n",
    "        MF_matrix[start][end].append(edge)\n",
    "    \n",
    "    return MF_matrix"
   ]
  },
  {
   "cell_type": "code",
   "execution_count": 4,
   "id": "5596bf93",
   "metadata": {},
   "outputs": [],
   "source": [
    "def construct_MF_cost_matrix(flow_matrix):\n",
    "    \"\"\"\n",
    "    Constructs a dataframe that contains the cost for the edge between any given pair of nodes a and b.\n",
    "    Therefore, it takes the output of function construct_MF_matrix and assigns each edge a specific cost.\n",
    "    If there is no outgoing edge from a to b, the cost will be equal to the fixed penalty value. \n",
    "    If there is exactly one edge, its cost will be used. If there are several, the smallest cost is used.\n",
    "    \"\"\"\n",
    "\n",
    "    node_labels = flow_matrix.columns\n",
    "    mf_cost_matrix = pd.DataFrame([[[] for _ in range(len(node_labels))] for _ in range(len(node_labels))], node_labels, node_labels)\n",
    "\n",
    "    for i in node_labels:\n",
    "        for j in node_labels:\n",
    "            entries = flow_matrix[i][j]\n",
    "            if len(entries) == 0:\n",
    "                mf_cost_matrix[i][j] = (penalty_value)\n",
    "            elif len(entries) == 1:\n",
    "                mf_cost_matrix[i][j] = (entries[0][2])\n",
    "            else:\n",
    "                best_cost = penalty_value # penalty by default bigger than the biggest edge cost\n",
    "                for entry in entries:\n",
    "                    if entry[2] < best_cost:\n",
    "                        best_cost = entry[2]\n",
    "                mf_cost_matrix[i][j] = best_cost\n",
    "    return mf_cost_matrix"
   ]
  },
  {
   "cell_type": "code",
   "execution_count": 5,
   "id": "be6fc11b",
   "metadata": {},
   "outputs": [],
   "source": [
    "def D_function(node, time_slice, nr_flows):\n",
    "    \"\"\"\n",
    "    This function computes the sum over all binary variables associated to a given machine/node \n",
    "    which appear in the the same time tick of multiple material flows.\n",
    "    \"\"\"\n",
    "\n",
    "    flows_at_position = 0\n",
    "    for i in range(nr_flows):\n",
    "        if len(mf_s[i]) > time_slice and node in mf_s[i][time_slice]:\n",
    "            index = find_index(node, time_slice, mf_s[i], mf_ns[i])\n",
    "            flows_at_position += X[index]\n",
    "\n",
    "    return flows_at_position"
   ]
  },
  {
   "cell_type": "code",
   "execution_count": 6,
   "id": "258f23dd",
   "metadata": {},
   "outputs": [],
   "source": [
    "def find_index(node, time_slice, sliced_mf, numbered_sliced_mf):\n",
    "    \"\"\"\n",
    "    Determination of the qubit index for a given node. \n",
    "    If the node is not present in the given slice in the MMS, returns -1.\n",
    "    \"\"\"\n",
    "    \n",
    "    for i in range(len(sliced_mf[time_slice])):\n",
    "        if sliced_mf[time_slice][i] == node:\n",
    "            return numbered_sliced_mf[time_slice][i]\n",
    "    else:\n",
    "        return -1\n"
   ]
  },
  {
   "cell_type": "code",
   "execution_count": 7,
   "id": "e27d6a43",
   "metadata": {},
   "outputs": [],
   "source": [
    "def fix_nodes(start, destination, flow_index, sliced_mf, numbered_sliced_mf, cost_func):\n",
    "    \"\"\"\n",
    "    This function fixes specific nodes in the cost function according to already known values for the qubits. \n",
    "    Here, the qubits representing the start and destination nodes are fixed at 1.\n",
    "    \"\"\"\n",
    "\n",
    "    # set start node to 1\n",
    "    start_node_index = 'X_' + str(find_index(start, 0, sliced_mf, numbered_sliced_mf))\n",
    "    cost_func.linear_constraint(linear={start_node_index: 1}, sense='==', rhs=1, name=('start_node' + '_veh_' + str(flow_index)))\n",
    "\n",
    "    # set destination node to 1\n",
    "    dest_node_index = 'X_' + str(find_index(destination, -1, sliced_mf, numbered_sliced_mf))\n",
    "    cost_func.linear_constraint(linear={dest_node_index: 1}, sense='==', rhs=1, name='destination_node' + '_veh_' + str(flow_index))\n",
    "\n",
    "    return"
   ]
  },
  {
   "cell_type": "code",
   "execution_count": 8,
   "id": "6f4a9b2e",
   "metadata": {},
   "outputs": [],
   "source": [
    "def get_node_info_from_index(node_index, sliced_mf, numbered_sliced_mf):\n",
    "    \"\"\" \n",
    "    For a given qubit index, returns the corresponding time tick and the node label. \n",
    "    \"\"\"\n",
    "\n",
    "    for time_slice in range(len(numbered_sliced_mf)):\n",
    "        if node_index in numbered_sliced_MF[time_slice]:\n",
    "\n",
    "            pos = numbered_sliced_mf[time_slice].index(node_index)\n",
    "            node_label = sliced_mf[time_slice][pos]\n",
    "\n",
    "            return time_slice, node_label"
   ]
  },
  {
   "cell_type": "markdown",
   "id": "6b997e83",
   "metadata": {},
   "source": [
    "## Import of Libraries and Tools"
   ]
  },
  {
   "cell_type": "code",
   "execution_count": 9,
   "id": "c683a1e6",
   "metadata": {},
   "outputs": [],
   "source": [
    "# Import of all required libraries and tools to simulate the given problem.\n",
    "\n",
    "# General Python libraries and tools\n",
    "import sympy as sym\n",
    "import pandas as pd\n",
    "import time\n",
    "from tqdm import tqdm\n",
    "\n",
    "# Qiskit libraries and tools\n",
    "import qiskit\n",
    "from qiskit.algorithms import QAOA\n",
    "from qiskit_optimization.algorithms import MinimumEigenOptimizer\n",
    "from qiskit.utils import QuantumInstance\n",
    "from qiskit_optimization.problems import QuadraticProgram\n",
    "from qiskit.algorithms.optimizers import COBYLA, L_BFGS_B, POWELL, SLSQP, SPSA"
   ]
  },
  {
   "cell_type": "markdown",
   "id": "7a3ecb8c",
   "metadata": {},
   "source": [
    "## Preprocessing"
   ]
  },
  {
   "cell_type": "code",
   "execution_count": 10,
   "id": "c42f671c",
   "metadata": {},
   "outputs": [],
   "source": [
    "# There are several examples defined in the following. Each represents a given problem MMS as a collection of edges \n",
    "# with the format (start, end, edge weight) as well as defined start and destination nodes and an array of set manufacturing\n",
    "# sequences for a number of products mf_s [[[start], [(operation 1) machine x, machine y], ..., [destination]], ...].\n",
    "# Here, machine x and machine y correspond to 2 machines that have the skill to execute the needed operation.\n",
    "\n",
    "# In general, the parameters i, j and k in mf_s[i][j][k] represent the material flow, product type or job number (i), \n",
    "# the operation number of the respective job (j) and the possible machine choice (k). The latter is processed in the qubits.\n",
    "\n",
    "# Fixed variable assignments can be taken for the start and destination nodes, which are representing node 0 (start) and \n",
    "# node 7 (end) for each material flow defined in the material flow array mf_s further below.\n",
    "\n",
    "start_node = 0\n",
    "dest_node = 7\n",
    "\n",
    "# Depending on which example you want to simulate, choose one of the following three sections and comment the other out. \n",
    "# If you all three uncommented, the last one is executed automatically.\n",
    "\n",
    "# --- First Example - Simulation of 2 Material FLows with Multiple Optimal Solutions (see chapter 4.3.1) ---\n",
    "\n",
    "MMS = [(0,1,1), (0,2,1), (0,3,3),\n",
    "       (1,3,1), (1,4,2), (1,5,3),\n",
    "       (2,1,1), (2,3,2), (2,4,1), (2,6,3),\n",
    "       (3,1,1), (3,5,1), (3,6,2),\n",
    "       (4,5,2), (4,6,1), (4,7,3),\n",
    "       (5,7,1),\n",
    "       (6,4,1), (6,5,1), (6,7,1)]\n",
    "\n",
    "mf_s = [[[0],[1,2],[3,4],[5,6],[7]],\n",
    "       [[0],[2,3],[1,6],[4,5],[7]]]\n",
    "\n",
    "# --- Second Example - Simulation of 2 Material FLows with 1 Optimal Solution (see chapter 4.3.2) ---\n",
    "\n",
    "MMS = [(0,1,1), (0,2,1), (0,3,7),\n",
    "       (1,3,1), (1,4,2), (1,5,7),\n",
    "       (2,1,1), (2,3,7), (2,4,7), (2,6,7),\n",
    "       (3,1,7), (3,5,1), (3,6,7),\n",
    "       (4,5,7), (4,6,7), (4,7,3),\n",
    "       (5,7,1),\n",
    "       (6,4,7), (6,5,7), (6,7,7)]\n",
    "\n",
    "mf_s = [[[0],[1,2],[3,4],[5,6],[7]],\n",
    "       [[0],[2,3],[1,6],[4,5],[7]]]\n",
    "\n",
    "# --- Third Example - Simulation of 3 Material FLows with Multiple Optimal Solutions (see chapter 4.3.3) --- \n",
    "\n",
    "MMS = [(0,1,1), (0,2,1), (0,3,3), (0,4,3),\n",
    "       (1,2,1), (1,3,1), (1,4,2), (1,5,3),\n",
    "       (2,1,1), (2,3,2), (2,4,1), (2,6,3),\n",
    "       (3,1,1), (3,5,1), (3,6,2), (3,7,3),\n",
    "       (4,2,1), (4,5,2), (4,6,1), (4,7,3),\n",
    "       (5,3,1), (5,6,1), (5,7,1),\n",
    "       (6,4,1), (6,5,1), (6,7,1)]\n",
    "\n",
    "mf_s = [[[0],[1,2],[3,4],[5,6],[7]],\n",
    "       [[0],[2,3],[1,6],[4,5],[7]],\n",
    "       [[0],[1,4],[2,5],[3,6],[7]]]\n"
   ]
  },
  {
   "cell_type": "code",
   "execution_count": 11,
   "id": "c3931cc1",
   "metadata": {},
   "outputs": [],
   "source": [
    "# Other variable definitions required for further steps\n",
    "\n",
    "mf_s_list = []             # Format material flow array into list to allow later result formatting               \n",
    "for sublist in mf_s:\n",
    "    for sub_sublist in sublist:\n",
    "        mf_s_list.extend(sub_sublist)\n",
    "        \n",
    "penalty_value = 200        # The penalty value that is impinged on a false/infeasible follow-up machine choosen\n",
    "\n",
    "nr_flows = len(mf_s)       # Total number of material flows\n",
    "\n",
    "unique_nodes = get_unique_nodes(MMS)    # List of all unique nodes in the MMS (start, M1, ..., M6, dest)"
   ]
  },
  {
   "cell_type": "code",
   "execution_count": 12,
   "id": "cfe75581",
   "metadata": {},
   "outputs": [
    {
     "name": "stdout",
     "output_type": "stream",
     "text": [
      "Sliced MMS: \t\t[[[0], [1, 2], [3, 4], [5, 6], [7]], [[0], [2, 3], [1, 6], [4, 5], [7]]]\n",
      "Numbered Sliced MMS: \t[[[0], [1, 2], [3, 4], [5, 6], [7]], [[8], [9, 10], [11, 12], [13, 14], [15]]]\n",
      "Qubits needed: \t\t16\n"
     ]
    }
   ],
   "source": [
    "# Numbered and sliced material flows\n",
    "mf_ns = []\n",
    "\n",
    "nodes_total = 0\n",
    "for i in range(nr_flows):\n",
    "#   mf_s.append(construct_sliced_MF(mf_s_edges[i], start_node, dest_node))\n",
    "\n",
    "    numbered_MMS, nr_nodes_MMS = construct_numbered_sliced_MF(mf_s[i], offset=nodes_total)\n",
    "    mf_ns.append(numbered_MMS)\n",
    "\n",
    "    nodes_total += nr_nodes_MMS\n",
    "\n",
    "nr_qubits = nodes_total\n",
    "\n",
    "print('Sliced MMS: \\t\\t' + str(mf_s))\n",
    "print('Numbered Sliced MMS: \\t' + str(mf_ns))\n",
    "print('Qubits needed: \\t\\t' + str(nr_qubits))"
   ]
  },
  {
   "cell_type": "code",
   "execution_count": 13,
   "id": "0871a7ab",
   "metadata": {},
   "outputs": [
    {
     "data": {
      "text/html": [
       "<div>\n",
       "<style scoped>\n",
       "    .dataframe tbody tr th:only-of-type {\n",
       "        vertical-align: middle;\n",
       "    }\n",
       "\n",
       "    .dataframe tbody tr th {\n",
       "        vertical-align: top;\n",
       "    }\n",
       "\n",
       "    .dataframe thead th {\n",
       "        text-align: right;\n",
       "    }\n",
       "</style>\n",
       "<table border=\"1\" class=\"dataframe\">\n",
       "  <thead>\n",
       "    <tr style=\"text-align: right;\">\n",
       "      <th></th>\n",
       "      <th>0</th>\n",
       "      <th>1</th>\n",
       "      <th>2</th>\n",
       "      <th>3</th>\n",
       "      <th>4</th>\n",
       "      <th>5</th>\n",
       "      <th>6</th>\n",
       "      <th>7</th>\n",
       "    </tr>\n",
       "  </thead>\n",
       "  <tbody>\n",
       "    <tr>\n",
       "      <th>0</th>\n",
       "      <td>[]</td>\n",
       "      <td>[]</td>\n",
       "      <td>[]</td>\n",
       "      <td>[]</td>\n",
       "      <td>[]</td>\n",
       "      <td>[]</td>\n",
       "      <td>[]</td>\n",
       "      <td>[]</td>\n",
       "    </tr>\n",
       "    <tr>\n",
       "      <th>1</th>\n",
       "      <td>[(0, 1, 1)]</td>\n",
       "      <td>[]</td>\n",
       "      <td>[(2, 1, 1)]</td>\n",
       "      <td>[(3, 1, 1)]</td>\n",
       "      <td>[]</td>\n",
       "      <td>[]</td>\n",
       "      <td>[]</td>\n",
       "      <td>[]</td>\n",
       "    </tr>\n",
       "    <tr>\n",
       "      <th>2</th>\n",
       "      <td>[(0, 2, 1)]</td>\n",
       "      <td>[]</td>\n",
       "      <td>[]</td>\n",
       "      <td>[]</td>\n",
       "      <td>[]</td>\n",
       "      <td>[]</td>\n",
       "      <td>[]</td>\n",
       "      <td>[]</td>\n",
       "    </tr>\n",
       "    <tr>\n",
       "      <th>3</th>\n",
       "      <td>[(0, 3, 3)]</td>\n",
       "      <td>[(1, 3, 1)]</td>\n",
       "      <td>[(2, 3, 2)]</td>\n",
       "      <td>[]</td>\n",
       "      <td>[]</td>\n",
       "      <td>[]</td>\n",
       "      <td>[]</td>\n",
       "      <td>[]</td>\n",
       "    </tr>\n",
       "    <tr>\n",
       "      <th>4</th>\n",
       "      <td>[]</td>\n",
       "      <td>[(1, 4, 2)]</td>\n",
       "      <td>[(2, 4, 1)]</td>\n",
       "      <td>[]</td>\n",
       "      <td>[]</td>\n",
       "      <td>[]</td>\n",
       "      <td>[(6, 4, 1)]</td>\n",
       "      <td>[]</td>\n",
       "    </tr>\n",
       "    <tr>\n",
       "      <th>5</th>\n",
       "      <td>[]</td>\n",
       "      <td>[(1, 5, 3)]</td>\n",
       "      <td>[]</td>\n",
       "      <td>[(3, 5, 1)]</td>\n",
       "      <td>[(4, 5, 2)]</td>\n",
       "      <td>[]</td>\n",
       "      <td>[(6, 5, 1)]</td>\n",
       "      <td>[]</td>\n",
       "    </tr>\n",
       "    <tr>\n",
       "      <th>6</th>\n",
       "      <td>[]</td>\n",
       "      <td>[]</td>\n",
       "      <td>[(2, 6, 3)]</td>\n",
       "      <td>[(3, 6, 2)]</td>\n",
       "      <td>[(4, 6, 1)]</td>\n",
       "      <td>[]</td>\n",
       "      <td>[]</td>\n",
       "      <td>[]</td>\n",
       "    </tr>\n",
       "    <tr>\n",
       "      <th>7</th>\n",
       "      <td>[]</td>\n",
       "      <td>[]</td>\n",
       "      <td>[]</td>\n",
       "      <td>[]</td>\n",
       "      <td>[(4, 7, 3)]</td>\n",
       "      <td>[(5, 7, 1)]</td>\n",
       "      <td>[(6, 7, 1)]</td>\n",
       "      <td>[(7, 7, 0)]</td>\n",
       "    </tr>\n",
       "  </tbody>\n",
       "</table>\n",
       "</div>"
      ],
      "text/plain": [
       "             0            1            2            3            4  \\\n",
       "0           []           []           []           []           []   \n",
       "1  [(0, 1, 1)]           []  [(2, 1, 1)]  [(3, 1, 1)]           []   \n",
       "2  [(0, 2, 1)]           []           []           []           []   \n",
       "3  [(0, 3, 3)]  [(1, 3, 1)]  [(2, 3, 2)]           []           []   \n",
       "4           []  [(1, 4, 2)]  [(2, 4, 1)]           []           []   \n",
       "5           []  [(1, 5, 3)]           []  [(3, 5, 1)]  [(4, 5, 2)]   \n",
       "6           []           []  [(2, 6, 3)]  [(3, 6, 2)]  [(4, 6, 1)]   \n",
       "7           []           []           []           []  [(4, 7, 3)]   \n",
       "\n",
       "             5            6            7  \n",
       "0           []           []           []  \n",
       "1           []           []           []  \n",
       "2           []           []           []  \n",
       "3           []           []           []  \n",
       "4           []  [(6, 4, 1)]           []  \n",
       "5           []  [(6, 5, 1)]           []  \n",
       "6           []           []           []  \n",
       "7  [(5, 7, 1)]  [(6, 7, 1)]  [(7, 7, 0)]  "
      ]
     },
     "execution_count": 13,
     "metadata": {},
     "output_type": "execute_result"
    }
   ],
   "source": [
    "# Matrix that includes all edge costs for every feasible material flow route in the MMS.\n",
    "# An edge cost of 0 is added for the destination in case one product type has fewer operations than others.\n",
    "\n",
    "MMS_matrix = construct_MF_matrix(MMS)\n",
    "MMS_matrix[7][7].append((7, 7, 0))\n",
    "MMS_matrix"
   ]
  },
  {
   "cell_type": "code",
   "execution_count": 14,
   "id": "9ebb8b49",
   "metadata": {},
   "outputs": [
    {
     "data": {
      "text/html": [
       "<div>\n",
       "<style scoped>\n",
       "    .dataframe tbody tr th:only-of-type {\n",
       "        vertical-align: middle;\n",
       "    }\n",
       "\n",
       "    .dataframe tbody tr th {\n",
       "        vertical-align: top;\n",
       "    }\n",
       "\n",
       "    .dataframe thead th {\n",
       "        text-align: right;\n",
       "    }\n",
       "</style>\n",
       "<table border=\"1\" class=\"dataframe\">\n",
       "  <thead>\n",
       "    <tr style=\"text-align: right;\">\n",
       "      <th></th>\n",
       "      <th>0</th>\n",
       "      <th>1</th>\n",
       "      <th>2</th>\n",
       "      <th>3</th>\n",
       "      <th>4</th>\n",
       "      <th>5</th>\n",
       "      <th>6</th>\n",
       "      <th>7</th>\n",
       "    </tr>\n",
       "  </thead>\n",
       "  <tbody>\n",
       "    <tr>\n",
       "      <th>0</th>\n",
       "      <td>200</td>\n",
       "      <td>200</td>\n",
       "      <td>200</td>\n",
       "      <td>200</td>\n",
       "      <td>200</td>\n",
       "      <td>200</td>\n",
       "      <td>200</td>\n",
       "      <td>200</td>\n",
       "    </tr>\n",
       "    <tr>\n",
       "      <th>1</th>\n",
       "      <td>1</td>\n",
       "      <td>200</td>\n",
       "      <td>1</td>\n",
       "      <td>1</td>\n",
       "      <td>200</td>\n",
       "      <td>200</td>\n",
       "      <td>200</td>\n",
       "      <td>200</td>\n",
       "    </tr>\n",
       "    <tr>\n",
       "      <th>2</th>\n",
       "      <td>1</td>\n",
       "      <td>200</td>\n",
       "      <td>200</td>\n",
       "      <td>200</td>\n",
       "      <td>200</td>\n",
       "      <td>200</td>\n",
       "      <td>200</td>\n",
       "      <td>200</td>\n",
       "    </tr>\n",
       "    <tr>\n",
       "      <th>3</th>\n",
       "      <td>3</td>\n",
       "      <td>1</td>\n",
       "      <td>2</td>\n",
       "      <td>200</td>\n",
       "      <td>200</td>\n",
       "      <td>200</td>\n",
       "      <td>200</td>\n",
       "      <td>200</td>\n",
       "    </tr>\n",
       "    <tr>\n",
       "      <th>4</th>\n",
       "      <td>200</td>\n",
       "      <td>2</td>\n",
       "      <td>1</td>\n",
       "      <td>200</td>\n",
       "      <td>200</td>\n",
       "      <td>200</td>\n",
       "      <td>1</td>\n",
       "      <td>200</td>\n",
       "    </tr>\n",
       "    <tr>\n",
       "      <th>5</th>\n",
       "      <td>200</td>\n",
       "      <td>3</td>\n",
       "      <td>200</td>\n",
       "      <td>1</td>\n",
       "      <td>2</td>\n",
       "      <td>200</td>\n",
       "      <td>1</td>\n",
       "      <td>200</td>\n",
       "    </tr>\n",
       "    <tr>\n",
       "      <th>6</th>\n",
       "      <td>200</td>\n",
       "      <td>200</td>\n",
       "      <td>3</td>\n",
       "      <td>2</td>\n",
       "      <td>1</td>\n",
       "      <td>200</td>\n",
       "      <td>200</td>\n",
       "      <td>200</td>\n",
       "    </tr>\n",
       "    <tr>\n",
       "      <th>7</th>\n",
       "      <td>200</td>\n",
       "      <td>200</td>\n",
       "      <td>200</td>\n",
       "      <td>200</td>\n",
       "      <td>3</td>\n",
       "      <td>1</td>\n",
       "      <td>1</td>\n",
       "      <td>0</td>\n",
       "    </tr>\n",
       "  </tbody>\n",
       "</table>\n",
       "</div>"
      ],
      "text/plain": [
       "     0    1    2    3    4    5    6    7\n",
       "0  200  200  200  200  200  200  200  200\n",
       "1    1  200    1    1  200  200  200  200\n",
       "2    1  200  200  200  200  200  200  200\n",
       "3    3    1    2  200  200  200  200  200\n",
       "4  200    2    1  200  200  200    1  200\n",
       "5  200    3  200    1    2  200    1  200\n",
       "6  200  200    3    2    1  200  200  200\n",
       "7  200  200  200  200    3    1    1    0"
      ]
     },
     "execution_count": 14,
     "metadata": {},
     "output_type": "execute_result"
    }
   ],
   "source": [
    "# Cost matrix including all edge costs for every (in)feasible material flow route in the MMS.\n",
    "# The previously defined penalty value is resembling all routes that cannot be realized in the defined MMS problem. \n",
    "\n",
    "edge_cost_matrix = construct_MF_cost_matrix(MMS_matrix)\n",
    "edge_cost_matrix"
   ]
  },
  {
   "cell_type": "code",
   "execution_count": 15,
   "id": "f0c447a4",
   "metadata": {},
   "outputs": [],
   "source": [
    "# Definition of a variable that is assigned to the value of total time ticks one material flow requires to pass through \n",
    "# the MMS. The variable is later required as input for the D_function that iterates through each time tick and node to \n",
    "# control for collisions. In this project's problem definition, the time ticks needed are equal for every material flow. \n",
    "# But it might be changed if products are added, which need less or more than three operations to be manufactured. \n",
    "\n",
    "highest_slice_nr = 0\n",
    "for i in range(nr_flows):\n",
    "    if len(mf_s[i]) > highest_slice_nr:\n",
    "        highest_slice_nr = len(mf_s[i])\n"
   ]
  },
  {
   "cell_type": "markdown",
   "id": "077647c2",
   "metadata": {},
   "source": [
    "## Definition of Variables"
   ]
  },
  {
   "cell_type": "code",
   "execution_count": 16,
   "id": "f6010d82",
   "metadata": {},
   "outputs": [],
   "source": [
    "# Definition of all necessary sympy variables to be included in the upcoming cost function.\n",
    "\n",
    "X = sym.IndexedBase('X') # counter variable for qubits\n",
    "v = sym.symbols('v') # counter variable for vertices (nodes)\n",
    "w = sym.symbols('w') # counter variable for subsequent vertices at t+1\n",
    "k = sym.symbols('k') # counter variable for material flows/product types\n",
    "mf_max = sym.symbols('mf_max') # total number of material flows / product types\n",
    "P = sym.symbols('P') # penalty value\n",
    "t = sym.symbols('t') # counter variable for time ticks/slices\n",
    "T = sym.symbols('T') # max number of slices for any product\n",
    "t_max = sym.IndexedBase('t_max') # max number of slices for respective product\n",
    "len_t = sym.IndexedBase('len_t') # length of time tick / number of vertices in given tick\n",
    "\n",
    "u = sym.IndexedBase('u') # used to access array of unique vertices\n",
    "len_u = sym.symbols('len_u') # number of unique vertices\n",
    "\n",
    "d = sym.IndexedBase('d') # represents the function d, which returns the edge cost between two vertices\n",
    "D = sym.IndexedBase('D') # represents the function D_function (see above)\n",
    "\n",
    "s = sym.IndexedBase('s') # variable for sliced material flows\n",
    "ns = sym.IndexedBase('ns') # variable for numbered and sliced material flows\n",
    "\n"
   ]
  },
  {
   "cell_type": "markdown",
   "id": "1335baf2",
   "metadata": {},
   "source": [
    "## Definition of the QUBO/Cost Fuction"
   ]
  },
  {
   "cell_type": "code",
   "execution_count": 17,
   "id": "27f600f6",
   "metadata": {},
   "outputs": [
    {
     "data": {
      "text/latex": [
       "$\\displaystyle 0.5 P \\sum_{k=0}^{mf_{max} - 1} 2 \\sum_{t=0}^{{t_{max}}_{k} - 1} \\left(\\sum_{v=0}^{{len_{t}}_{k,t} - 1} {X}_{{ns}_{k,t,v}} - 1\\right)^{2}$"
      ],
      "text/plain": [
       "0.5*P*Sum(2*Sum((Sum(X[ns[k, t, v]], (v, 0, len_t[k, t] - 1)) - 1)**2, (t, 0, t_max[k] - 1)), (k, 0, mf_max - 1))"
      ]
     },
     "execution_count": 17,
     "metadata": {},
     "output_type": "execute_result"
    }
   ],
   "source": [
    "# 1st Constraint: Each time tick of each material has exactly one active machine.\n",
    "# Multiplications by 0.5 and 2 are conducted to avoid an incorrect definition of the constraint by sympy.\n",
    "\n",
    "constraint_1 = ((0.5*P*sym.Sum(\n",
    "                      (2*sym.Sum(\n",
    "                          (sym.Sum(X[ns[k,t,v]],            \n",
    "                              (v, 0, len_t[k,t] - 1))-1)**2, \n",
    "                          (t, 0, t_max[k]-1))), \n",
    "                      (k, 0, mf_max-1))))\n",
    "constraint_1"
   ]
  },
  {
   "cell_type": "code",
   "execution_count": 18,
   "id": "0ef7eeb6",
   "metadata": {},
   "outputs": [
    {
     "data": {
      "text/latex": [
       "$\\displaystyle P \\sum_{\\substack{1 \\leq v \\leq len_{u} - 2\\\\1 \\leq t \\leq T - 2}} \\left({D}_{{u}_{v},t,mf_{max}}^{2} - {D}_{{u}_{v},t,mf_{max}}\\right)$"
      ],
      "text/plain": [
       "P*Sum(D[u[v], t, mf_max]**2 - D[u[v], t, mf_max], (v, 1, len_u - 2), (t, 1, T - 2))"
      ]
     },
     "execution_count": 18,
     "metadata": {},
     "output_type": "execute_result"
    }
   ],
   "source": [
    "# 2nd Constraint: Each machine can only execute one operation at once.\n",
    "# The intervals [c=1,c_max-2] and [v=1,len_u-2] are chosen, since both, start and destination nodes, \n",
    "# do not need to be considered.\n",
    "\n",
    "constraint_2 = (P * sym.Sum( \n",
    "                      sym.Sum(((D[u[v],t,mf_max]**2 - D[u[v],t,mf_max])) , \n",
    "                          (v, 1, len_u-2)), \n",
    "                      (t, 1, T - 2)))\n",
    "constraint_2"
   ]
  },
  {
   "cell_type": "code",
   "execution_count": 19,
   "id": "6b0bcf8d",
   "metadata": {},
   "outputs": [
    {
     "data": {
      "text/latex": [
       "$\\displaystyle 0.25 \\sum_{k=0}^{mf_{max} - 1} 2 \\sum_{t=0}^{{t_{max}}_{k} - 2} 2 \\sum_{\\substack{0 \\leq w \\leq {len_{t}}_{k,t + 1} - 1\\\\0 \\leq v \\leq {len_{t}}_{k,t} - 1}} {X}_{{ns}_{k,t + 1,w}} {X}_{{ns}_{k,t,v}} {d}_{{s}_{k,t,v},{s}_{k,t + 1,w}}$"
      ],
      "text/plain": [
       "0.25*Sum(2*Sum(2*Sum(X[ns[k, t + 1, w]]*X[ns[k, t, v]]*d[s[k, t, v], s[k, t + 1, w]], (w, 0, len_t[k, t + 1] - 1), (v, 0, len_t[k, t] - 1)), (t, 0, t_max[k] - 2)), (k, 0, mf_max - 1))"
      ]
     },
     "execution_count": 19,
     "metadata": {},
     "output_type": "execute_result"
    }
   ],
   "source": [
    "# Main cost function: Costs for the chosen machines/paths is summed up.\n",
    "# Similar as before, effectless multiplications (here: 0.25*2*2 = 1) need to be conducted to avoid an incorrect \n",
    "# definition by sympy.\n",
    "\n",
    "cost_function_main = (0.25*sym.Sum(   \n",
    "                        (2*sym.Sum(  \n",
    "                            (2*sym.Sum(X[ns[k,t,v]] * X[ns[k,t+1,w]] * d[s[k,t,v], s[k,t+1,w]],  \n",
    "                                    (w, 0, len_t[k,t + 1] - 1) , (v, 0, len_t[k,t] - 1))),\n",
    "                            (t, 0, t_max[k] - 2))),\n",
    "                     (k, 0, mf_max-1)))\n",
    "cost_function_main"
   ]
  },
  {
   "cell_type": "code",
   "execution_count": 20,
   "id": "7681c000",
   "metadata": {},
   "outputs": [
    {
     "data": {
      "text/latex": [
       "$\\displaystyle 0.5 P \\sum_{k=0}^{mf_{max} - 1} 2 \\sum_{t=0}^{{t_{max}}_{k} - 1} \\left(\\sum_{v=0}^{{len_{t}}_{k,t} - 1} {X}_{{ns}_{k,t,v}} - 1\\right)^{2} + P \\sum_{\\substack{1 \\leq v \\leq len_{u} - 2\\\\1 \\leq t \\leq T - 2}} \\left({D}_{{u}_{v},t,mf_{max}}^{2} - {D}_{{u}_{v},t,mf_{max}}\\right) + 0.25 \\sum_{k=0}^{mf_{max} - 1} 2 \\sum_{t=0}^{{t_{max}}_{k} - 2} 2 \\sum_{\\substack{0 \\leq w \\leq {len_{t}}_{k,t + 1} - 1\\\\0 \\leq v \\leq {len_{t}}_{k,t} - 1}} {X}_{{ns}_{k,t + 1,w}} {X}_{{ns}_{k,t,v}} {d}_{{s}_{k,t,v},{s}_{k,t + 1,w}}$"
      ],
      "text/plain": [
       "0.5*P*Sum(2*Sum((Sum(X[ns[k, t, v]], (v, 0, len_t[k, t] - 1)) - 1)**2, (t, 0, t_max[k] - 1)), (k, 0, mf_max - 1)) + P*Sum(D[u[v], t, mf_max]**2 - D[u[v], t, mf_max], (v, 1, len_u - 2), (t, 1, T - 2)) + 0.25*Sum(2*Sum(2*Sum(X[ns[k, t + 1, w]]*X[ns[k, t, v]]*d[s[k, t, v], s[k, t + 1, w]], (w, 0, len_t[k, t + 1] - 1), (v, 0, len_t[k, t] - 1)), (t, 0, t_max[k] - 2)), (k, 0, mf_max - 1))"
      ]
     },
     "execution_count": 20,
     "metadata": {},
     "output_type": "execute_result"
    }
   ],
   "source": [
    "# Eventually, the final cost function, consisting of the main cost function and both constraints, is defined as a sum of all.\n",
    "\n",
    "cost_function = constraint_1 + constraint_2 + cost_function_main\n",
    "cost_function"
   ]
  },
  {
   "cell_type": "code",
   "execution_count": 21,
   "id": "3f6fb426",
   "metadata": {},
   "outputs": [
    {
     "data": {
      "text/latex": [
       "$\\displaystyle \\operatorname{Poly}{\\left( 200.0 {X}_{0}^{2} + 1.0 {X}_{0}{X}_{1} + 1.0 {X}_{0}{X}_{2} - 400.0 {X}_{0} + 400.0 {X}_{1}^{2} + 400.0 {X}_{1}{X}_{2} + 1.0 {X}_{1}{X}_{3} + 2.0 {X}_{1}{X}_{4} - 600.0 {X}_{1} + 400.0 {X}_{2}^{2} + 2.0 {X}_{2}{X}_{3} + 1.0 {X}_{2}{X}_{4} + 400.0 {X}_{2}{X}_{9} - 600.0 {X}_{2} + 400.0 {X}_{3}^{2} + 400.0 {X}_{3}{X}_{4} + 1.0 {X}_{3}{X}_{5} + 2.0 {X}_{3}{X}_{6} - 600.0 {X}_{3} + 400.0 {X}_{4}^{2} + 2.0 {X}_{4}{X}_{5} + 1.0 {X}_{4}{X}_{6} - 600.0 {X}_{4} + 400.0 {X}_{5}^{2} + 400.0 {X}_{5}{X}_{6} + 1.0 {X}_{5}{X}_{7} + 400.0 {X}_{5}{X}_{14} - 600.0 {X}_{5} + 400.0 {X}_{6}^{2} + 1.0 {X}_{6}{X}_{7} - 600.0 {X}_{6} + 200.0 {X}_{7}^{2} - 400.0 {X}_{7} + 200.0 {X}_{8}^{2} + 1.0 {X}_{8}{X}_{9} + 3.0 {X}_{8}{X}_{10} - 400.0 {X}_{8} + 400.0 {X}_{9}^{2} + 400.0 {X}_{9}{X}_{10} + 1.0 {X}_{9}{X}_{11} + 3.0 {X}_{9}{X}_{12} - 600.0 {X}_{9} + 400.0 {X}_{10}^{2} + 1.0 {X}_{10}{X}_{11} + 2.0 {X}_{10}{X}_{12} - 600.0 {X}_{10} + 400.0 {X}_{11}^{2} + 400.0 {X}_{11}{X}_{12} + 2.0 {X}_{11}{X}_{13} + 3.0 {X}_{11}{X}_{14} - 600.0 {X}_{11} + 400.0 {X}_{12}^{2} + 1.0 {X}_{12}{X}_{13} + 1.0 {X}_{12}{X}_{14} - 600.0 {X}_{12} + 400.0 {X}_{13}^{2} + 400.0 {X}_{13}{X}_{14} + 3.0 {X}_{13}{X}_{15} - 600.0 {X}_{13} + 400.0 {X}_{14}^{2} + 1.0 {X}_{14}{X}_{15} - 600.0 {X}_{14} + 200.0 {X}_{15}^{2} - 400.0 {X}_{15} + 2000.0, {X}_{0}, {X}_{1}, {X}_{2}, {X}_{3}, {X}_{4}, {X}_{5}, {X}_{6}, {X}_{7}, {X}_{8}, {X}_{9}, {X}_{10}, {X}_{11}, {X}_{12}, {X}_{13}, {X}_{14}, {X}_{15}, domain=\\mathbb{R} \\right)}$"
      ],
      "text/plain": [
       "Poly(200.0*X[0]**2 + 1.0*X[0]*X[1] + 1.0*X[0]*X[2] - 400.0*X[0] + 400.0*X[1]**2 + 400.0*X[1]*X[2] + 1.0*X[1]*X[3] + 2.0*X[1]*X[4] - 600.0*X[1] + 400.0*X[2]**2 + 2.0*X[2]*X[3] + 1.0*X[2]*X[4] + 400.0*X[2]*X[9] - 600.0*X[2] + 400.0*X[3]**2 + 400.0*X[3]*X[4] + 1.0*X[3]*X[5] + 2.0*X[3]*X[6] - 600.0*X[3] + 400.0*X[4]**2 + 2.0*X[4]*X[5] + 1.0*X[4]*X[6] - 600.0*X[4] + 400.0*X[5]**2 + 400.0*X[5]*X[6] + 1.0*X[5]*X[7] + 400.0*X[5]*X[14] - 600.0*X[5] + 400.0*X[6]**2 + 1.0*X[6]*X[7] - 600.0*X[6] + 200.0*X[7]**2 - 400.0*X[7] + 200.0*X[8]**2 + 1.0*X[8]*X[9] + 3.0*X[8]*X[10] - 400.0*X[8] + 400.0*X[9]**2 + 400.0*X[9]*X[10] + 1.0*X[9]*X[11] + 3.0*X[9]*X[12] - 600.0*X[9] + 400.0*X[10]**2 + 1.0*X[10]*X[11] + 2.0*X[10]*X[12] - 600.0*X[10] + 400.0*X[11]**2 + 400.0*X[11]*X[12] + 2.0*X[11]*X[13] + 3.0*X[11]*X[14] - 600.0*X[11] + 400.0*X[12]**2 + 1.0*X[12]*X[13] + 1.0*X[12]*X[14] - 600.0*X[12] + 400.0*X[13]**2 + 400.0*X[13]*X[14] + 3.0*X[13]*X[15] - 600.0*X[13] + 400.0*X[14]**2 + 1.0*X[14]*X[15] - 600.0*X[14] + 200.0*X[15]**2 - 400.0*X[15] + 2000.0, X[0], X[1], X[2], X[3], X[4], X[5], X[6], X[7], X[8], X[9], X[10], X[11], X[12], X[13], X[14], X[15], domain='RR')"
      ]
     },
     "execution_count": 21,
     "metadata": {},
     "output_type": "execute_result"
    }
   ],
   "source": [
    "# Translation of data into dictionaries for sympy.\n",
    "\n",
    "# Dictionary that include values that have a fixed value\n",
    "single_valued_dict = {\n",
    "    mf_max: nr_flows,\n",
    "    P: penalty_value,\n",
    "    T: highest_slice_nr,\n",
    "    len_u: len(unique_nodes)\n",
    "    }\n",
    "\n",
    "# Dictionary for the number of slices/time ticks per material flow\n",
    "nr_slices_dict = {\n",
    "    t_max[k]: len(mf_s[k]) for k in range(nr_flows)\n",
    "}\n",
    "\n",
    "# Dictionary for the unique nodes in the MMS. In the given examples, these are:\n",
    "# 0 = Source, 1 = M1, 2 = M2, 3 = M3, 4 = M4, 5 = M5, 6 = M6, 7 = Destination  \n",
    "unique_nodes_dict = {\n",
    "    u[v]: unique_nodes[v] for v in range(len(unique_nodes))\n",
    "}\n",
    "\n",
    "# Dictionary for the numbered nodes in the system \n",
    "# e.g. node 10 is equal to ns[1][1][1] (material flow 2, operation 1 on time tick t_1, machine 3)\n",
    "numbered_sliced_MF_dict = {\n",
    "    ns[k, i, j]: mf_ns[k][i][j] for k in range(nr_flows) for i in range(len(mf_ns[k])) for j in range(len(mf_ns[k][i]))\n",
    "}\n",
    "\n",
    "\n",
    "# Dictionary for the function D that controls for collisions of material flows\n",
    "D_function_dict = {\n",
    "    D[v, t, r]: D_function(v, t, r) for v in range(len(unique_nodes)) for t in range(highest_slice_nr) for r in range(nr_flows, nr_flows+1)\n",
    "}\n",
    "\n",
    "# Dictionary for the nodes (source/machines/destination nodes) in general.\n",
    "# Other than numbered_sliced_MF_dict, this dictionary assigns the total nodes of all material flows to the initial numbers 0-7. \n",
    "sliced_MF_dict = {\n",
    "    s[k, i, j]: mf_s[k][i][j] for k in range(nr_flows) for i in range(len(mf_s[k])) for j in range(len(mf_s[k][i]))\n",
    "}\n",
    "\n",
    "# Dictionary for the length of the slice/time tick the function currently looks at.\n",
    "# For the given problem formulation the lenth is either 1 (t_0/t_4 for source/destination) or two (t_1-t_3 for operations).\n",
    "len_slice_dict = {\n",
    "    len_t[k, i]: len(mf_s[k][i]) for k in range(nr_flows) for i in range(len(mf_s[k]))\n",
    "}\n",
    "\n",
    "# Dictionary for the cost/weight of choosing one route\n",
    "d_dict = {\n",
    "    d[i, j]: edge_cost_matrix[i][j] \n",
    "    for i in unique_nodes\n",
    "    for j in unique_nodes\n",
    "}\n",
    "\n",
    "# Definition of the cost polynomial of the optimization problem\n",
    "cost_poly = sym.Poly(cost_function\n",
    "                     .subs(single_valued_dict)\n",
    "                     .doit()\n",
    "                     .subs(nr_slices_dict)\n",
    "                     .doit()\n",
    "                     .subs(unique_nodes_dict)\n",
    "                     .doit()\n",
    "                     .subs(len_slice_dict)\n",
    "                     .doit()\n",
    "                     .subs(D_function_dict)\n",
    "                     .doit()\n",
    "                     .subs(numbered_sliced_MF_dict)\n",
    "                     .subs(sliced_MF_dict)\n",
    "                     .doit()\n",
    "                     .subs(d_dict)\n",
    "                     .doit(),\n",
    "                     [X[i] for i in range(nr_qubits)])\n",
    "cost_poly\n",
    "\n",
    "# The only variables in the cost polynomial should be X_0, X_1, X_2 etc. if not, then some of the variables have not been evaluated; order of evaluation is important.\n",
    "# If the evaluation of parts of the polynomial depends on the evaluation of another, then doit() is necessary in between in order to evaluate that first part."
   ]
  },
  {
   "cell_type": "code",
   "execution_count": 22,
   "id": "6a3d8d0e",
   "metadata": {},
   "outputs": [],
   "source": [
    "# The offset of the above definded cost function is not included in the cost function that will be passed to the algorithm.\n",
    "# So, it will be added later to get the actual result (see line 'OPTIMIZATION COST' in section 'Results')\n",
    "offset = cost_poly.coeff_monomial(1)"
   ]
  },
  {
   "cell_type": "code",
   "execution_count": 23,
   "id": "1b67294c",
   "metadata": {},
   "outputs": [
    {
     "name": "stdout",
     "output_type": "stream",
     "text": [
      "\\ This file has been generated by DOcplex\n",
      "\\ ENCODING=ISO-8859-1\n",
      "\\Problem name: CPLEX\n",
      "\n",
      "Minimize\n",
      " obj: - 400 X_0 - 600 X_1 - 600 X_2 - 600 X_3 - 600 X_4 - 600 X_5 - 600 X_6\n",
      "      - 400 X_7 - 400 X_8 - 600 X_9 - 600 X_10 - 600 X_11 - 600 X_12 - 600 X_13\n",
      "      - 600 X_14 - 400 X_15 + [ 400 X_0^2 + 2 X_0*X_1 + 2 X_0*X_2 + 800 X_1^2\n",
      "      + 800 X_1*X_2 + 2 X_1*X_3 + 4 X_1*X_4 + 800 X_2^2 + 4 X_2*X_3 + 2 X_2*X_4\n",
      "      + 800 X_2*X_9 + 800 X_3^2 + 800 X_3*X_4 + 2 X_3*X_5 + 4 X_3*X_6\n",
      "      + 800 X_4^2 + 4 X_4*X_5 + 2 X_4*X_6 + 800 X_5^2 + 800 X_5*X_6 + 2 X_5*X_7\n",
      "      + 800 X_5*X_14 + 800 X_6^2 + 2 X_6*X_7 + 400 X_7^2 + 400 X_8^2 + 2 X_8*X_9\n",
      "      + 6 X_8*X_10 + 800 X_9^2 + 800 X_9*X_10 + 2 X_9*X_11 + 6 X_9*X_12\n",
      "      + 800 X_10^2 + 2 X_10*X_11 + 4 X_10*X_12 + 800 X_11^2 + 800 X_11*X_12\n",
      "      + 4 X_11*X_13 + 6 X_11*X_14 + 800 X_12^2 + 2 X_12*X_13 + 2 X_12*X_14\n",
      "      + 800 X_13^2 + 800 X_13*X_14 + 6 X_13*X_15 + 800 X_14^2 + 2 X_14*X_15\n",
      "      + 400 X_15^2 ]/2\n",
      "Subject To\n",
      " start_node_veh_0: X_0 = 1\n",
      " destination_node_veh_0: X_7 = 1\n",
      " start_node_veh_1: X_8 = 1\n",
      " destination_node_veh_1: X_15 = 1\n",
      "\n",
      "Bounds\n",
      " 0 <= X_0 <= 1\n",
      " 0 <= X_1 <= 1\n",
      " 0 <= X_2 <= 1\n",
      " 0 <= X_3 <= 1\n",
      " 0 <= X_4 <= 1\n",
      " 0 <= X_5 <= 1\n",
      " 0 <= X_6 <= 1\n",
      " 0 <= X_7 <= 1\n",
      " 0 <= X_8 <= 1\n",
      " 0 <= X_9 <= 1\n",
      " 0 <= X_10 <= 1\n",
      " 0 <= X_11 <= 1\n",
      " 0 <= X_12 <= 1\n",
      " 0 <= X_13 <= 1\n",
      " 0 <= X_14 <= 1\n",
      " 0 <= X_15 <= 1\n",
      "\n",
      "Binaries\n",
      " X_0 X_1 X_2 X_3 X_4 X_5 X_6 X_7 X_8 X_9 X_10 X_11 X_12 X_13 X_14 X_15\n",
      "End\n",
      "\n"
     ]
    }
   ],
   "source": [
    "# Generate Qiskit's cost function by defining a new QuadraticProgram()\n",
    "qiskit_cost_function = QuadraticProgram()\n",
    "\n",
    "# Define Qiskit variables\n",
    "for i in range(nr_qubits):                                                                     # binary variables x0 - xn\n",
    "    qiskit_cost_function.binary_var('X_' + str(i))\n",
    "    \n",
    "# With the following line of code a binary variable representing the offset could be added to the function     \n",
    "#   qiskit_cost_function.integer_var(lowerbound=int(offset),upperbound=int(offset), name='o')  # integer variable: o=offset\n",
    "# The optimization algorithm will run and deliver valid results, but the problem of the final result representation \n",
    "# could not be solved.\n",
    "\n",
    "# Specification of the final Qiskit cost function\n",
    "# Here, the function is assigned its linear and quadratic parts using the above defined variables.\n",
    "qiskit_cost_function.minimize(\n",
    "    linear = [int(cost_poly.coeff_monomial(X[i]**1)) for i in range(nr_qubits)],\n",
    "    quadratic = {\n",
    "        ('X_'+str(i), 'X_'+str(j)): cost_poly.coeff_monomial(X[i]**1 * X[j]**1)\n",
    "        for i in range(nr_qubits)\n",
    "        for j in range(i,nr_qubits)\n",
    "    }\n",
    "    )\n",
    "for i in range(nr_flows):\n",
    "    fix_nodes(start_node, dest_node, i, mf_s[i], mf_ns[i], qiskit_cost_function)\n",
    "\n",
    "# The final Qiskit cost function is printed and can be controlled after executing this piece of code.\n",
    "print(qiskit_cost_function.export_as_lp_string())"
   ]
  },
  {
   "cell_type": "markdown",
   "id": "eb3ac2c0",
   "metadata": {},
   "source": [
    "## Initialization of QAOA and Classical Optimizer"
   ]
  },
  {
   "cell_type": "code",
   "execution_count": 24,
   "id": "16383f0b",
   "metadata": {
    "scrolled": true
   },
   "outputs": [
    {
     "name": "stderr",
     "output_type": "stream",
     "text": [
      " 10%|████████▎                                                                          | 1/10 [00:56<08:30, 56.75s/it]"
     ]
    },
    {
     "name": "stdout",
     "output_type": "stream",
     "text": [
      "fval=-1989.0, X_0=1.0, X_1=1.0, X_2=0.0, X_3=1.0, X_4=0.0, X_5=1.0, X_6=0.0, X_7=1.0, X_8=1.0, X_9=1.0, X_10=0.0, X_11=1.0, X_12=0.0, X_13=1.0, X_14=0.0, X_15=1.0, status=SUCCESS\n"
     ]
    },
    {
     "name": "stderr",
     "output_type": "stream",
     "text": [
      "\r",
      " 20%|████████████████▌                                                                  | 2/10 [01:52<07:27, 55.92s/it]"
     ]
    },
    {
     "name": "stdout",
     "output_type": "stream",
     "text": [
      "fval=-1989.0, X_0=1.0, X_1=1.0, X_2=0.0, X_3=0.0, X_4=1.0, X_5=0.0, X_6=1.0, X_7=1.0, X_8=1.0, X_9=1.0, X_10=0.0, X_11=1.0, X_12=0.0, X_13=0.0, X_14=1.0, X_15=1.0, status=SUCCESS\n"
     ]
    },
    {
     "name": "stderr",
     "output_type": "stream",
     "text": [
      "\r",
      " 30%|████████████████████████▉                                                          | 3/10 [02:48<06:32, 56.13s/it]"
     ]
    },
    {
     "name": "stdout",
     "output_type": "stream",
     "text": [
      "fval=-1989.0, X_0=1.0, X_1=0.0, X_2=1.0, X_3=0.0, X_4=1.0, X_5=0.0, X_6=1.0, X_7=1.0, X_8=1.0, X_9=0.0, X_10=1.0, X_11=0.0, X_12=1.0, X_13=0.0, X_14=1.0, X_15=1.0, status=SUCCESS\n"
     ]
    },
    {
     "name": "stderr",
     "output_type": "stream",
     "text": [
      "\r",
      " 40%|█████████████████████████████████▏                                                 | 4/10 [03:44<05:35, 56.00s/it]"
     ]
    },
    {
     "name": "stdout",
     "output_type": "stream",
     "text": [
      "fval=-1989.0, X_0=1.0, X_1=1.0, X_2=0.0, X_3=0.0, X_4=1.0, X_5=0.0, X_6=1.0, X_7=1.0, X_8=1.0, X_9=1.0, X_10=0.0, X_11=0.0, X_12=1.0, X_13=0.0, X_14=1.0, X_15=1.0, status=SUCCESS\n"
     ]
    },
    {
     "name": "stderr",
     "output_type": "stream",
     "text": [
      "\r",
      " 50%|█████████████████████████████████████████▌                                         | 5/10 [04:39<04:38, 55.75s/it]"
     ]
    },
    {
     "name": "stdout",
     "output_type": "stream",
     "text": [
      "fval=-1989.0, X_0=1.0, X_1=1.0, X_2=0.0, X_3=1.0, X_4=0.0, X_5=1.0, X_6=0.0, X_7=1.0, X_8=1.0, X_9=1.0, X_10=0.0, X_11=1.0, X_12=0.0, X_13=1.0, X_14=0.0, X_15=1.0, status=SUCCESS\n"
     ]
    },
    {
     "name": "stderr",
     "output_type": "stream",
     "text": [
      "\r",
      " 60%|█████████████████████████████████████████████████▊                                 | 6/10 [05:35<03:43, 55.77s/it]"
     ]
    },
    {
     "name": "stdout",
     "output_type": "stream",
     "text": [
      "fval=-1987.0, X_0=1.0, X_1=1.0, X_2=0.0, X_3=1.0, X_4=0.0, X_5=0.0, X_6=1.0, X_7=1.0, X_8=1.0, X_9=1.0, X_10=0.0, X_11=0.0, X_12=1.0, X_13=1.0, X_14=0.0, X_15=1.0, status=SUCCESS\n"
     ]
    },
    {
     "name": "stderr",
     "output_type": "stream",
     "text": [
      "\r",
      " 70%|██████████████████████████████████████████████████████████                         | 7/10 [06:32<02:48, 56.18s/it]"
     ]
    },
    {
     "name": "stdout",
     "output_type": "stream",
     "text": [
      "fval=-1989.0, X_0=1.0, X_1=1.0, X_2=0.0, X_3=1.0, X_4=0.0, X_5=1.0, X_6=0.0, X_7=1.0, X_8=1.0, X_9=1.0, X_10=0.0, X_11=1.0, X_12=0.0, X_13=1.0, X_14=0.0, X_15=1.0, status=SUCCESS\n"
     ]
    },
    {
     "name": "stderr",
     "output_type": "stream",
     "text": [
      "\r",
      " 80%|██████████████████████████████████████████████████████████████████▍                | 8/10 [07:28<01:52, 56.29s/it]"
     ]
    },
    {
     "name": "stdout",
     "output_type": "stream",
     "text": [
      "fval=-1989.0, X_0=1.0, X_1=1.0, X_2=0.0, X_3=1.0, X_4=0.0, X_5=0.0, X_6=1.0, X_7=1.0, X_8=1.0, X_9=1.0, X_10=0.0, X_11=1.0, X_12=0.0, X_13=0.0, X_14=1.0, X_15=1.0, status=SUCCESS\n"
     ]
    },
    {
     "name": "stderr",
     "output_type": "stream",
     "text": [
      "\r",
      " 90%|██████████████████████████████████████████████████████████████████████████▋        | 9/10 [08:24<00:56, 56.21s/it]"
     ]
    },
    {
     "name": "stdout",
     "output_type": "stream",
     "text": [
      "fval=-1989.0, X_0=1.0, X_1=1.0, X_2=0.0, X_3=0.0, X_4=1.0, X_5=0.0, X_6=1.0, X_7=1.0, X_8=1.0, X_9=1.0, X_10=0.0, X_11=0.0, X_12=1.0, X_13=0.0, X_14=1.0, X_15=1.0, status=SUCCESS\n"
     ]
    },
    {
     "name": "stderr",
     "output_type": "stream",
     "text": [
      "100%|██████████████████████████████████████████████████████████████████████████████████| 10/10 [09:21<00:00, 56.14s/it]"
     ]
    },
    {
     "name": "stdout",
     "output_type": "stream",
     "text": [
      "fval=-1988.0, X_0=1.0, X_1=1.0, X_2=0.0, X_3=1.0, X_4=0.0, X_5=1.0, X_6=0.0, X_7=1.0, X_8=1.0, X_9=1.0, X_10=0.0, X_11=0.0, X_12=1.0, X_13=1.0, X_14=0.0, X_15=1.0, status=SUCCESS\n"
     ]
    },
    {
     "name": "stderr",
     "output_type": "stream",
     "text": [
      "\n"
     ]
    }
   ],
   "source": [
    "# The QAOA is executed on a local Qasm Simulator.\n",
    "# COBYLA, SPSA, and others are admissible optimizers to solve a systems of multiple unknown parameters.\n",
    "# To receive more/less accurate results, adjustments can be made on the parameters maxiter, reps and shots.\n",
    "maxiter = 10\n",
    "optimizer = COBYLA(maxiter=maxiter) # Typical classical optimizerts to use are e.g. COBYLA, L_BFGS_B, POWELL, SLSQP, SPSA\n",
    "backend = qiskit.Aer.get_backend('qasm_simulator')\n",
    "qaoa = QAOA(reps=10, optimizer=optimizer, quantum_instance =\n",
    "             QuantumInstance(backend=backend, shots = 8000, skip_qobj_validation=False))\n",
    "\n",
    "# MinimumEigenOptimizer eventually forms the QUBO in binary form and thereof into an Ising Hamiltionian that is solved \n",
    "optimizer_qaoa = MinimumEigenOptimizer(qaoa)\n",
    "\n",
    "# Empty list to save the results of all iterations.\n",
    "results = []\n",
    "\n",
    "# Time list, in which the starting time of the for-loop is registered in ticks[0].\n",
    "# Hence, a calculation of one iteration's processing time is easily determinable later. \n",
    "ticks = [time.time()]\n",
    "\n",
    "# With the library tqdm we can create a progress bar to check the time progress of the iterations (it).\n",
    "# It is structured as follows: progress in % | progress bar | relative progress [it start time < total remaining time, s/it].\n",
    "for i in tqdm(range(10)):\n",
    "    result_qaoa = optimizer_qaoa.solve(qiskit_cost_function)\n",
    "    results.append(result_qaoa)\n",
    "    print(results[i])    \n",
    "    ticks.append(time.time())"
   ]
  },
  {
   "cell_type": "markdown",
   "id": "bc120b44",
   "metadata": {},
   "source": [
    "## Results"
   ]
  },
  {
   "cell_type": "code",
   "execution_count": 25,
   "id": "3342df91",
   "metadata": {},
   "outputs": [
    {
     "name": "stderr",
     "output_type": "stream",
     "text": [
      "C:\\Users\\Rapha\\AppData\\Local\\Temp\\ipykernel_11632\\2808545056.py:71: FutureWarning: The frame.append method is deprecated and will be removed from pandas in a future version. Use pandas.concat instead.\n",
      "  result_df = result_df.append({'opt. cost': opt_cost, 'path': qubit_path, 'real path': real_path,\n",
      "C:\\Users\\Rapha\\AppData\\Local\\Temp\\ipykernel_11632\\2808545056.py:71: FutureWarning: The frame.append method is deprecated and will be removed from pandas in a future version. Use pandas.concat instead.\n",
      "  result_df = result_df.append({'opt. cost': opt_cost, 'path': qubit_path, 'real path': real_path,\n",
      "C:\\Users\\Rapha\\AppData\\Local\\Temp\\ipykernel_11632\\2808545056.py:71: FutureWarning: The frame.append method is deprecated and will be removed from pandas in a future version. Use pandas.concat instead.\n",
      "  result_df = result_df.append({'opt. cost': opt_cost, 'path': qubit_path, 'real path': real_path,\n",
      "C:\\Users\\Rapha\\AppData\\Local\\Temp\\ipykernel_11632\\2808545056.py:71: FutureWarning: The frame.append method is deprecated and will be removed from pandas in a future version. Use pandas.concat instead.\n",
      "  result_df = result_df.append({'opt. cost': opt_cost, 'path': qubit_path, 'real path': real_path,\n",
      "C:\\Users\\Rapha\\AppData\\Local\\Temp\\ipykernel_11632\\2808545056.py:71: FutureWarning: The frame.append method is deprecated and will be removed from pandas in a future version. Use pandas.concat instead.\n",
      "  result_df = result_df.append({'opt. cost': opt_cost, 'path': qubit_path, 'real path': real_path,\n",
      "C:\\Users\\Rapha\\AppData\\Local\\Temp\\ipykernel_11632\\2808545056.py:71: FutureWarning: The frame.append method is deprecated and will be removed from pandas in a future version. Use pandas.concat instead.\n",
      "  result_df = result_df.append({'opt. cost': opt_cost, 'path': qubit_path, 'real path': real_path,\n",
      "C:\\Users\\Rapha\\AppData\\Local\\Temp\\ipykernel_11632\\2808545056.py:71: FutureWarning: The frame.append method is deprecated and will be removed from pandas in a future version. Use pandas.concat instead.\n",
      "  result_df = result_df.append({'opt. cost': opt_cost, 'path': qubit_path, 'real path': real_path,\n",
      "C:\\Users\\Rapha\\AppData\\Local\\Temp\\ipykernel_11632\\2808545056.py:71: FutureWarning: The frame.append method is deprecated and will be removed from pandas in a future version. Use pandas.concat instead.\n",
      "  result_df = result_df.append({'opt. cost': opt_cost, 'path': qubit_path, 'real path': real_path,\n",
      "C:\\Users\\Rapha\\AppData\\Local\\Temp\\ipykernel_11632\\2808545056.py:71: FutureWarning: The frame.append method is deprecated and will be removed from pandas in a future version. Use pandas.concat instead.\n",
      "  result_df = result_df.append({'opt. cost': opt_cost, 'path': qubit_path, 'real path': real_path,\n",
      "C:\\Users\\Rapha\\AppData\\Local\\Temp\\ipykernel_11632\\2808545056.py:71: FutureWarning: The frame.append method is deprecated and will be removed from pandas in a future version. Use pandas.concat instead.\n",
      "  result_df = result_df.append({'opt. cost': opt_cost, 'path': qubit_path, 'real path': real_path,\n"
     ]
    },
    {
     "data": {
      "text/html": [
       "<table border=\"1\" class=\"dataframe\">\n",
       "  <thead>\n",
       "    <tr style=\"text-align: right;\">\n",
       "      <th></th>\n",
       "      <th>opt. cost</th>\n",
       "      <th>path</th>\n",
       "      <th>real path</th>\n",
       "      <th>validity</th>\n",
       "      <th>sim. time</th>\n",
       "    </tr>\n",
       "  </thead>\n",
       "  <tbody>\n",
       "    <tr>\n",
       "      <th>0</th>\n",
       "      <td>11</td>\n",
       "      <td>1-10-10-10-1 | 1-10-10-10-1</td>\n",
       "      <td>S-1-3-5-D | S-2-1-4-D</td>\n",
       "      <td>val</td>\n",
       "      <td>56.75 s</td>\n",
       "    </tr>\n",
       "    <tr>\n",
       "      <th>1</th>\n",
       "      <td>11</td>\n",
       "      <td>1-10-01-01-1 | 1-10-10-01-1</td>\n",
       "      <td>S-1-4-6-D | S-2-1-5-D</td>\n",
       "      <td>val</td>\n",
       "      <td>55.34 s</td>\n",
       "    </tr>\n",
       "    <tr>\n",
       "      <th>2</th>\n",
       "      <td>11</td>\n",
       "      <td>1-01-01-01-1 | 1-01-01-01-1</td>\n",
       "      <td>S-2-4-6-D | S-3-6-5-D</td>\n",
       "      <td>val</td>\n",
       "      <td>56.38 s</td>\n",
       "    </tr>\n",
       "    <tr>\n",
       "      <th>3</th>\n",
       "      <td>11</td>\n",
       "      <td>1-10-01-01-1 | 1-10-01-01-1</td>\n",
       "      <td>S-1-4-6-D | S-2-6-5-D</td>\n",
       "      <td>val</td>\n",
       "      <td>55.79 s</td>\n",
       "    </tr>\n",
       "    <tr>\n",
       "      <th>4</th>\n",
       "      <td>11</td>\n",
       "      <td>1-10-10-10-1 | 1-10-10-10-1</td>\n",
       "      <td>S-1-3-5-D | S-2-1-4-D</td>\n",
       "      <td>val</td>\n",
       "      <td>55.3 s</td>\n",
       "    </tr>\n",
       "    <tr>\n",
       "      <th>6</th>\n",
       "      <td>11</td>\n",
       "      <td>1-10-10-10-1 | 1-10-10-10-1</td>\n",
       "      <td>S-1-3-5-D | S-2-1-4-D</td>\n",
       "      <td>val</td>\n",
       "      <td>57.04 s</td>\n",
       "    </tr>\n",
       "    <tr>\n",
       "      <th>7</th>\n",
       "      <td>11</td>\n",
       "      <td>1-10-10-01-1 | 1-10-10-01-1</td>\n",
       "      <td>S-1-3-6-D | S-2-1-5-D</td>\n",
       "      <td>val</td>\n",
       "      <td>56.53 s</td>\n",
       "    </tr>\n",
       "    <tr>\n",
       "      <th>8</th>\n",
       "      <td>11</td>\n",
       "      <td>1-10-01-01-1 | 1-10-01-01-1</td>\n",
       "      <td>S-1-4-6-D | S-2-6-5-D</td>\n",
       "      <td>val</td>\n",
       "      <td>56.02 s</td>\n",
       "    </tr>\n",
       "    <tr>\n",
       "      <th>9</th>\n",
       "      <td>12</td>\n",
       "      <td>1-10-10-10-1 | 1-10-01-10-1</td>\n",
       "      <td>S-1-3-5-D | S-2-6-4-D</td>\n",
       "      <td>val</td>\n",
       "      <td>56.43 s</td>\n",
       "    </tr>\n",
       "    <tr>\n",
       "      <th>5</th>\n",
       "      <td>13</td>\n",
       "      <td>1-10-10-01-1 | 1-10-01-10-1</td>\n",
       "      <td>S-1-3-6-D | S-2-6-4-D</td>\n",
       "      <td>val</td>\n",
       "      <td>55.8 s</td>\n",
       "    </tr>\n",
       "  </tbody>\n",
       "</table>"
      ],
      "text/plain": [
       "<IPython.core.display.HTML object>"
      ]
     },
     "metadata": {},
     "output_type": "display_data"
    }
   ],
   "source": [
    "# Representation of the results above in a table including the optimization cost of a respective path chosen,\n",
    "# the material flow path in qubit as well as real forn and a validity check.\n",
    "        \n",
    "# Data frame to visualize final results\n",
    "result_df = pd.DataFrame(columns = ['opt. cost', 'path', 'real path', 'validity', 'sim. time'])\n",
    "#result_df = pd.DataFrame({'opt. cost': [opt_cost], 'path': [qubit_path], 'real path': [real_path], 'validity': [validity], 'sim. time': [sim_time]})\n",
    "\n",
    "# FOR-LOOP: all result values (opt. cost, qubit/real path, validity) are determined. \n",
    "t = 0\n",
    "sim_t = []\n",
    "\n",
    "for r in results:\n",
    "    \n",
    "    # OPTIMIZATION COST\n",
    "    opt_cost = round(r.fval + offset) \n",
    "    \n",
    "    # VALIDITY [val = valid; inv = invalid]\n",
    "    if (r.fval + offset) > penalty_value:\n",
    "        validity = \"inv\"\n",
    "    else:\n",
    "        validity = \"val\"\n",
    "    \n",
    "    # SIMULATION TIME\n",
    "    sim_time = str(round(ticks[t+1] - ticks[t], 2)) + ' s'\n",
    "    sim_t.append(sim_time)\n",
    "    \n",
    "    t += 1\n",
    "    \n",
    "    # QUBIT PATH consisting of 8*n qubit representations with n representing the total number of material flows / jobs.\n",
    "    \n",
    "    qubit_path = str(r.x).replace(' ', '').replace('.', '')[1:-1]   # Create string that only includes path numbers \n",
    "    \n",
    "    if nr_flows == 2:    # Final formatting of string for 2 material flows\n",
    "        qubit_path = \"{}-{}-{}-{}-{} | {}-{}-{}-{}-{}\".format(qubit_path[0], qubit_path[1:3], qubit_path[3:5], qubit_path[5:7], \n",
    "                     qubit_path[7], qubit_path[8], qubit_path[9:11], qubit_path[11:13], qubit_path[13:15], qubit_path[15])\n",
    "        \n",
    "    elif nr_flows == 3:   # Final formatting of string for 3 material flows\n",
    "        qubit_path = \"{}-{}-{}-{}-{} | {}-{}-{}-{}-{} | {}-{}-{}-{}-{}\".format(qubit_path[0], qubit_path[1:3], qubit_path[3:5], qubit_path[5:7], \n",
    "                     qubit_path[7], qubit_path[8], qubit_path[9:11], qubit_path[11:13], qubit_path[13:15], qubit_path[15], \n",
    "                     qubit_path[16], qubit_path[17:19], qubit_path[19:21], qubit_path[21:23], qubit_path[23])\n",
    "        \n",
    "    else:                 # Final formatting of string for 4+ material flows -> output: sequence of 8 bits * nr_flows\n",
    "        continue          #                     --- limitedly supported by qasm simulator ---\n",
    "    \n",
    "    \n",
    "    # REAL PATH consisting of 5*n machines with n being the total number of material flows / jobs\n",
    "    \n",
    "    real_path = list(str(r.x).replace(' ', '').replace('.', '')[1:-1])  # Transfer result string into list to allow formatting\n",
    "    \n",
    "    for i in range(1, len(real_path)+1): \n",
    "        if int(i)%8 == 0:                         # Assigns destination marks\n",
    "            real_path[i-1] = 'D'\n",
    "        elif (int(i)%8)-1 == 0 or i == 1:             # Assigns source marks\n",
    "            real_path[i-1] = 'S'\n",
    "        elif real_path[i-1] == '1':               # Assigns machine to active qubit (qubit value = 1)\n",
    "            real_path[i-1] = str(mf_s_list[i-1])\n",
    "        else:                                     # Deletes inactive qubits (qubit value = 0)\n",
    "            real_path[i-1] = \"\"\n",
    "\n",
    "    real_path = \"\".join(real_path).replace('','-')[1:-1]    # Join list elements to form string\n",
    "    \n",
    "    if nr_flows == 2:                                       # Final formatting of string for 2 material flows\n",
    "        real_path = real_path[:9] + ' | ' + real_path[10:]  \n",
    "    elif nr_flows == 3:                                     # Final formatting of string for 3 material flows\n",
    "        real_path = real_path[:9] + ' | ' + real_path[10:19] + ' | ' + real_path[20:]\n",
    "    else:                                                   # Final formatting of string for 4+ material flows\n",
    "        continue                                            # --- limitedly supported by qasm simulator ---\n",
    "    \n",
    "    \n",
    "    # APPEND RESULTS of iteration to data frame\n",
    "    result_df = result_df.append({'opt. cost': opt_cost, 'path': qubit_path, 'real path': real_path, \n",
    "                                  'validity': validity, 'sim. time':  sim_time}, ignore_index=True)\n",
    "    #new_row = pd.DataFrame({'opt. cost': [opt_cost], 'path': [qubit_path], 'real path': [real_path], 'validity': [validity], 'sim. time': [sim_time]})\n",
    "    #result_df = pd.concat([result_df, new_row], ignore_index=True)\n",
    "    \n",
    "# PRINT final results sorted by the optimization cost from best to worst\n",
    "#print(\"QAOA:\")\n",
    "#print(result_df.sort_values(by=['opt. cost']))\n",
    "\n",
    "from IPython.display import display, HTML\n",
    "display(HTML(result_df.sort_values(by=['opt. cost']).to_html()))"
   ]
  },
  {
   "cell_type": "markdown",
   "id": "0fb50d45",
   "metadata": {},
   "source": [
    "In the table above, the results of the last 10 calculations can be found. A respective result is split up into the following:\n",
    "- An optimization cost, which is built up acc. to the cost function described earlier. The optimal cost to be found is 11 for a simulation of 2 material flows and 18 for a simulation of 3 material flows. The cost for active edges between nodes is defined in the material flow edge_cost_matrix.\n",
    "- A path that shows the qubit measurements at the end of the optimization cycle. As described earlier, 1's are representing nodes that are active in specific time ticks. Depending on the number of material flows, there are 16, 24 or more binary digits. A string of 8 digits separated by \"-\" for every time tick (e.g. 1-10-10-10-1) represents one material flow.\n",
    "- A real path that takes the path results and interprets them as true results. So, each time tick is assigned with an actual node (source, machine or destination) in the problem. For example, the path string '1-10-10-10-1' is representing the real path 'S-1-3-5-D' for material flow 1, and the path string '1-01-01-10-1' is representing the real path 'S-3-6-4-D' for material flow 2, as they were defined in mf_s in the preprocessing section.\n",
    "- A validity check that tells if the calculated route is valid or invalid.\n",
    "- The simulation time that was needed to process the optimization problem in the given iteration. "
   ]
  },
  {
   "cell_type": "markdown",
   "id": "dfb879b5",
   "metadata": {},
   "source": [
    "## Initialization of VQE Algorithm and Classical Optimizer [not included in the project]"
   ]
  },
  {
   "cell_type": "code",
   "execution_count": 27,
   "id": "a7a8c38c",
   "metadata": {},
   "outputs": [
    {
     "name": "stderr",
     "output_type": "stream",
     "text": [
      " 10%|████████▎                                                                          | 1/10 [00:44<06:42, 44.72s/it]"
     ]
    },
    {
     "name": "stdout",
     "output_type": "stream",
     "text": [
      "fval=-1793.0, X_0=1.0, X_1=1.0, X_2=0.0, X_3=0.0, X_4=1.0, X_5=0.0, X_6=1.0, X_7=1.0, X_8=1.0, X_9=0.0, X_10=0.0, X_11=0.0, X_12=1.0, X_13=0.0, X_14=1.0, X_15=1.0, status=SUCCESS\n"
     ]
    },
    {
     "name": "stderr",
     "output_type": "stream",
     "text": [
      "\r",
      " 20%|████████████████▌                                                                  | 2/10 [01:16<04:58, 37.33s/it]"
     ]
    },
    {
     "name": "stdout",
     "output_type": "stream",
     "text": [
      "fval=-1988.0, X_0=1.0, X_1=1.0, X_2=0.0, X_3=0.0, X_4=1.0, X_5=0.0, X_6=1.0, X_7=1.0, X_8=1.0, X_9=1.0, X_10=0.0, X_11=1.0, X_12=0.0, X_13=1.0, X_14=0.0, X_15=1.0, status=SUCCESS\n"
     ]
    },
    {
     "name": "stderr",
     "output_type": "stream",
     "text": [
      "\r",
      " 30%|████████████████████████▉                                                          | 3/10 [01:54<04:22, 37.44s/it]"
     ]
    },
    {
     "name": "stdout",
     "output_type": "stream",
     "text": [
      "fval=-1988.0, X_0=1.0, X_1=1.0, X_2=0.0, X_3=1.0, X_4=0.0, X_5=0.0, X_6=1.0, X_7=1.0, X_8=1.0, X_9=0.0, X_10=1.0, X_11=0.0, X_12=1.0, X_13=0.0, X_14=1.0, X_15=1.0, status=SUCCESS\n"
     ]
    },
    {
     "name": "stderr",
     "output_type": "stream",
     "text": [
      "\r",
      " 40%|█████████████████████████████████▏                                                 | 4/10 [02:26<03:31, 35.31s/it]"
     ]
    },
    {
     "name": "stdout",
     "output_type": "stream",
     "text": [
      "fval=-1987.0, X_0=1.0, X_1=1.0, X_2=0.0, X_3=0.0, X_4=1.0, X_5=0.0, X_6=1.0, X_7=1.0, X_8=1.0, X_9=0.0, X_10=1.0, X_11=1.0, X_12=0.0, X_13=0.0, X_14=1.0, X_15=1.0, status=SUCCESS\n"
     ]
    },
    {
     "name": "stderr",
     "output_type": "stream",
     "text": [
      "\r",
      " 50%|█████████████████████████████████████████▌                                         | 5/10 [02:59<02:51, 34.38s/it]"
     ]
    },
    {
     "name": "stdout",
     "output_type": "stream",
     "text": [
      "fval=-1989.0, X_0=1.0, X_1=1.0, X_2=0.0, X_3=1.0, X_4=0.0, X_5=0.0, X_6=1.0, X_7=1.0, X_8=1.0, X_9=1.0, X_10=0.0, X_11=1.0, X_12=0.0, X_13=0.0, X_14=1.0, X_15=1.0, status=SUCCESS\n"
     ]
    },
    {
     "name": "stderr",
     "output_type": "stream",
     "text": [
      "\r",
      " 60%|█████████████████████████████████████████████████▊                                 | 6/10 [03:32<02:15, 33.92s/it]"
     ]
    },
    {
     "name": "stdout",
     "output_type": "stream",
     "text": [
      "fval=-1986.0, X_0=1.0, X_1=0.0, X_2=1.0, X_3=1.0, X_4=0.0, X_5=0.0, X_6=1.0, X_7=1.0, X_8=1.0, X_9=0.0, X_10=1.0, X_11=1.0, X_12=0.0, X_13=0.0, X_14=1.0, X_15=1.0, status=SUCCESS\n"
     ]
    },
    {
     "name": "stderr",
     "output_type": "stream",
     "text": [
      "\r",
      " 70%|██████████████████████████████████████████████████████████                         | 7/10 [04:07<01:42, 34.21s/it]"
     ]
    },
    {
     "name": "stdout",
     "output_type": "stream",
     "text": [
      "fval=-1989.0, X_0=1.0, X_1=1.0, X_2=0.0, X_3=0.0, X_4=1.0, X_5=0.0, X_6=1.0, X_7=1.0, X_8=1.0, X_9=1.0, X_10=0.0, X_11=1.0, X_12=0.0, X_13=0.0, X_14=1.0, X_15=1.0, status=SUCCESS\n"
     ]
    },
    {
     "name": "stderr",
     "output_type": "stream",
     "text": [
      "\r",
      " 80%|██████████████████████████████████████████████████████████████████▍                | 8/10 [04:38<01:06, 33.33s/it]"
     ]
    },
    {
     "name": "stdout",
     "output_type": "stream",
     "text": [
      "fval=-1988.0, X_0=1.0, X_1=1.0, X_2=0.0, X_3=1.0, X_4=0.0, X_5=0.0, X_6=1.0, X_7=1.0, X_8=1.0, X_9=0.0, X_10=1.0, X_11=0.0, X_12=1.0, X_13=0.0, X_14=1.0, X_15=1.0, status=SUCCESS\n"
     ]
    },
    {
     "name": "stderr",
     "output_type": "stream",
     "text": [
      "\r",
      " 90%|██████████████████████████████████████████████████████████████████████████▋        | 9/10 [05:03<00:30, 30.60s/it]"
     ]
    },
    {
     "name": "stdout",
     "output_type": "stream",
     "text": [
      "fval=-1989.0, X_0=1.0, X_1=1.0, X_2=0.0, X_3=1.0, X_4=0.0, X_5=1.0, X_6=0.0, X_7=1.0, X_8=1.0, X_9=1.0, X_10=0.0, X_11=1.0, X_12=0.0, X_13=1.0, X_14=0.0, X_15=1.0, status=SUCCESS\n"
     ]
    },
    {
     "name": "stderr",
     "output_type": "stream",
     "text": [
      "100%|██████████████████████████████████████████████████████████████████████████████████| 10/10 [05:34<00:00, 33.41s/it]"
     ]
    },
    {
     "name": "stdout",
     "output_type": "stream",
     "text": [
      "fval=-1786.0, X_0=1.0, X_1=1.0, X_2=0.0, X_3=1.0, X_4=1.0, X_5=0.0, X_6=1.0, X_7=1.0, X_8=1.0, X_9=1.0, X_10=0.0, X_11=1.0, X_12=0.0, X_13=0.0, X_14=1.0, X_15=1.0, status=SUCCESS\n"
     ]
    },
    {
     "name": "stderr",
     "output_type": "stream",
     "text": [
      "\n"
     ]
    }
   ],
   "source": [
    "# Taken from Madadi (2021) and modified to handle the requirements of the result representation, the following code \n",
    "# can be used to compute the problem using the VQE algorithm. Please use the code cell in section \"Results\" to display \n",
    "# the results gained out of the following simulation runs. \n",
    "\n",
    "from qiskit.algorithms import VQE\n",
    "from qiskit.circuit.library import TwoLocal\n",
    "\n",
    "backend = qiskit.Aer.get_backend('qasm_simulator')\n",
    "optimizer = COBYLA(maxiter=10)\n",
    "ry = TwoLocal(nr_qubits, 'ry', 'cz', reps=10, entanglement='linear') # ansatz\n",
    "\n",
    "vqe = VQE(ry, optimizer=optimizer, quantum_instance=QuantumInstance(backend=backend, shots = 8000))\n",
    "\n",
    "optimizer_vqe = MinimumEigenOptimizer(vqe)\n",
    "\n",
    "results = []\n",
    "ticks = [time.time()]\n",
    "\n",
    "for i in tqdm(range(10)):\n",
    "    results_VQE = optimizer_vqe.solve(qiskit_cost_function)\n",
    "    results.append(results_VQE)\n",
    "    print(results[i]) \n",
    "    ticks.append(time.time())"
   ]
  },
  {
   "cell_type": "markdown",
   "id": "ad6c6075",
   "metadata": {},
   "source": [
    "## Sources"
   ]
  },
  {
   "cell_type": "markdown",
   "id": "f2b187a4",
   "metadata": {},
   "source": [
    "- Jaroszewski, D., Klos, F., & Sturm, B. (2020). Ising formulations of routing optimization problems. Retrieved from: https://doi.org/10.48550/arXiv.2012.05022.\n",
    "- Klos, F. (2020). Routing. PlanQK. Retrieved from: https://github.com/PlanQK/Routing.\n",
    "- Madadi, L. (2021). Application of Quantum Computing to Use Cases from Travel & Transport Industries. Retrieved from: https://planqk.stoneone.de/veroeffentlichungen/.\n",
    "- Qiskit Development Team. (2023a). Qiskit Textbook. Retrieved from: https://qiskit.org/documentation/.\n",
    "- Qiskit Development Team. (2023b). QuantumInstance. Retrieved from: https://qiskit.org/documentation/stubs/qiskit.utils.QuantumInstance.html."
   ]
  }
 ],
 "metadata": {
  "kernelspec": {
   "display_name": "Qiskit (stable)",
   "language": "python",
   "name": "qiskit"
  },
  "language_info": {
   "codemirror_mode": {
    "name": "ipython",
    "version": 3
   },
   "file_extension": ".py",
   "mimetype": "text/x-python",
   "name": "python",
   "nbconvert_exporter": "python",
   "pygments_lexer": "ipython3",
   "version": "3.9.15"
  }
 },
 "nbformat": 4,
 "nbformat_minor": 5
}
